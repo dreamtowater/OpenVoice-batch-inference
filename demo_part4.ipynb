{
 "cells": [
  {
   "cell_type": "markdown",
   "metadata": {},
   "source": [
    "比较单独提取的 se 和批量提取的 se。"
   ]
  },
  {
   "cell_type": "code",
   "execution_count": null,
   "metadata": {},
   "outputs": [],
   "source": [
    "import torch\n",
    "from openvoice.api import ToneColorConverterForBatchInference\n",
    "\n",
    "tone_color_converter = ToneColorConverterForBatchInference('ckpt/v2/config.json', device='cpu')\n",
    "tone_color_converter.load_ckpt('checkpoint_v2/checkpoint.pth')\n",
    "\n",
    "audio_path1 = \"resources/demo_speaker0.mp3\"\n",
    "audio_path2 = \"resources/demo_speaker2.mp3\"\n",
    "audio_paths = [audio_path1, audio_path2]\n",
    "\n",
    "se1 = tone_color_converter.extract_se(audio_path1)\n",
    "se2 = tone_color_converter.extract_se(audio_path2)\n",
    "ses = tone_color_converter.extract_se_batch(audio_paths)\n",
    "\n",
    "print(se1.shape, ses.shape)\n",
    "\n",
    "print(torch.allclose(se1[0], ses[0], atol=1e-6))\n",
    "print(torch.allclose(se2[0], ses[1], atol=1e-6))"
   ]
  },
  {
   "cell_type": "markdown",
   "metadata": {},
   "source": [
    "比较单独音色转换和批量音色转换的效果。"
   ]
  },
  {
   "cell_type": "code",
   "execution_count": null,
   "metadata": {},
   "outputs": [],
   "source": [
    "tone_color_converter.convert(audio_path1, se1, se2, \"test-1.wav\")\n",
    "tone_color_converter.convert(audio_path2, se2, se1, \"test-2.wav\")\n",
    "\n",
    "tone_color_converter.convert_batch(\n",
    "    audio_paths, torch.cat([se1, se2],dim=0), torch.cat([se2, se1],dim=0), [\"batch-test-1.wav\", \"batch-test-2.wav\"]\n",
    ")"
   ]
  }
 ],
 "metadata": {
  "kernelspec": {
   "display_name": "ai-dev",
   "language": "python",
   "name": "python3"
  },
  "language_info": {
   "codemirror_mode": {
    "name": "ipython",
    "version": 3
   },
   "file_extension": ".py",
   "mimetype": "text/x-python",
   "name": "python",
   "nbconvert_exporter": "python",
   "pygments_lexer": "ipython3",
   "version": "3.11.11"
  }
 },
 "nbformat": 4,
 "nbformat_minor": 2
}
